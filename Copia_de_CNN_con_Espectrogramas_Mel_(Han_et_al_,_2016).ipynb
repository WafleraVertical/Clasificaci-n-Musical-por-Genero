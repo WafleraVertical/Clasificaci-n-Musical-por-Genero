{
  "nbformat": 4,
  "nbformat_minor": 0,
  "metadata": {
    "colab": {
      "provenance": [],
      "authorship_tag": "ABX9TyNuVAd/Nl+Ts+fzEWCVk63m",
      "include_colab_link": true
    },
    "kernelspec": {
      "name": "python3",
      "display_name": "Python 3"
    },
    "language_info": {
      "name": "python"
    }
  },
  "cells": [
    {
      "cell_type": "markdown",
      "metadata": {
        "id": "view-in-github",
        "colab_type": "text"
      },
      "source": [
        "<a href=\"https://colab.research.google.com/github/WafleraVertical/Clasificaci-n-Musical-por-Genero/blob/main/Copia_de_CNN_con_Espectrogramas_Mel_(Han_et_al_%2C_2016).ipynb\" target=\"_parent\"><img src=\"https://colab.research.google.com/assets/colab-badge.svg\" alt=\"Open In Colab\"/></a>"
      ]
    },
    {
      "cell_type": "code",
      "source": [
        "from google.colab import drive\n",
        "drive.mount('/content/drive')"
      ],
      "metadata": {
        "colab": {
          "base_uri": "https://localhost:8080/"
        },
        "id": "HYDEt6qevdhK",
        "outputId": "0a92ea28-a483-4d61-b79b-138f9462b1a8"
      },
      "execution_count": null,
      "outputs": [
        {
          "output_type": "stream",
          "name": "stdout",
          "text": [
            "Mounted at /content/drive\n"
          ]
        }
      ]
    },
    {
      "cell_type": "code",
      "execution_count": null,
      "metadata": {
        "id": "WHEqvKpWZm7C"
      },
      "outputs": [],
      "source": [
        "import os\n",
        "import numpy as np\n",
        "import librosa\n",
        "import librosa.display\n",
        "import tensorflow as tf\n",
        "from tensorflow.keras import layers, models\n",
        "from sklearn.model_selection import train_test_split\n",
        "from tensorflow.keras.callbacks import EarlyStopping, ModelCheckpoint\n",
        "from tensorflow.keras.applications import VGG16\n"
      ]
    },
    {
      "cell_type": "code",
      "source": [
        "def extract_spectrogram(file_path, n_mels=128, fmax=8000):\n",
        "    y, sr = librosa.load(file_path, sr=None)\n",
        "    S = librosa.feature.melspectrogram(y=y, sr=sr, n_mels=n_mels, fmax=fmax)\n",
        "    log_S = librosa.power_to_db(S, ref=np.max)\n",
        "    return log_S"
      ],
      "metadata": {
        "id": "Rfldb2wpZoz1"
      },
      "execution_count": null,
      "outputs": []
    },
    {
      "cell_type": "code",
      "source": [
        "def load_gtzan_data(gtzan_path, genres, n_mels=128):\n",
        "    X = []\n",
        "    y = []\n",
        "    for genre in genres:\n",
        "        genre_dir = os.path.join(gtzan_path, genre)\n",
        "        for file_name in os.listdir(genre_dir):\n",
        "            file_path = os.path.join(genre_dir, file_name)\n",
        "            spectrogram = extract_spectrogram(file_path, n_mels=n_mels)\n",
        "            if spectrogram.shape[1] > 128:\n",
        "                spectrogram = spectrogram[:, :128]\n",
        "            elif spectrogram.shape[1] < 128:\n",
        "                spectrogram = np.pad(spectrogram, ((0, 0), (0, 128 - spectrogram.shape[1])), mode='constant')\n",
        "\n",
        "            X.append(spectrogram)\n",
        "            y.append(genres.index(genre))\n",
        "    return np.array(X), np.array(y)"
      ],
      "metadata": {
        "id": "12Q2AcCiZrZP"
      },
      "execution_count": null,
      "outputs": []
    },
    {
      "cell_type": "code",
      "source": [
        "GTZAN_PATH = '/content/drive/MyDrive/Tesis/GZTAN/genres_original'\n",
        "genres = ['blues', 'classical', 'country', 'disco', 'hiphop', 'jazz', 'metal', 'pop', 'reggae', 'rock']"
      ],
      "metadata": {
        "id": "vKM8l8FxZs9C"
      },
      "execution_count": null,
      "outputs": []
    },
    {
      "cell_type": "code",
      "source": [
        "X, y = load_gtzan_data(GTZAN_PATH, genres)"
      ],
      "metadata": {
        "id": "9T3Sy3YnZ0I7"
      },
      "execution_count": null,
      "outputs": []
    },
    {
      "cell_type": "code",
      "source": [
        "X = X[..., np.newaxis]\n",
        "X = X / np.max(X)"
      ],
      "metadata": {
        "id": "oQpCewuWZ2E8"
      },
      "execution_count": null,
      "outputs": []
    },
    {
      "cell_type": "code",
      "source": [
        "X_train, X_test, y_train, y_test = train_test_split(X, y, test_size=0.2, random_state=42)\n"
      ],
      "metadata": {
        "id": "m3DaHQ3CZ3Cj"
      },
      "execution_count": null,
      "outputs": []
    },
    {
      "cell_type": "code",
      "source": [
        "early_stopping = EarlyStopping(monitor='val_loss', patience=5, restore_best_weights=True)\n",
        "model_checkpoint = ModelCheckpoint('best_model.keras', save_best_only=True, monitor='val_loss')\n"
      ],
      "metadata": {
        "id": "ifkmjd8HiOyd"
      },
      "execution_count": null,
      "outputs": []
    },
    {
      "cell_type": "code",
      "source": [
        "model = models.Sequential([\n",
        "    layers.Conv2D(32, (3, 3), activation='relu', input_shape=(128, 128, 1)),\n",
        "    layers.MaxPooling2D((2, 2)),\n",
        "    layers.Conv2D(64, (3, 3), activation='relu'),\n",
        "    layers.MaxPooling2D((2, 2)),\n",
        "    layers.Flatten(),\n",
        "    layers.Dense(128, activation='relu'),\n",
        "    layers.Dense(10, activation='softmax')\n",
        "])\n",
        "\n",
        "model.compile(optimizer='adam', loss='sparse_categorical_crossentropy', metrics=['accuracy'])\n"
      ],
      "metadata": {
        "colab": {
          "base_uri": "https://localhost:8080/"
        },
        "id": "7djfquFwyr47",
        "outputId": "a374c212-2e1d-4ef0-88f6-73f43ebff438"
      },
      "execution_count": null,
      "outputs": [
        {
          "output_type": "stream",
          "name": "stderr",
          "text": [
            "/usr/local/lib/python3.10/dist-packages/keras/src/layers/convolutional/base_conv.py:107: UserWarning: Do not pass an `input_shape`/`input_dim` argument to a layer. When using Sequential models, prefer using an `Input(shape)` object as the first layer in the model instead.\n",
            "  super().__init__(activity_regularizer=activity_regularizer, **kwargs)\n"
          ]
        }
      ]
    },
    {
      "cell_type": "code",
      "source": [],
      "metadata": {
        "id": "a5eBWEuDyteb"
      },
      "execution_count": null,
      "outputs": []
    },
    {
      "cell_type": "code",
      "source": [
        "model.fit(X_train, y_train, epochs=30, validation_data=(X_test, y_test),\n",
        "          callbacks=[early_stopping, model_checkpoint])\n",
        "\n"
      ],
      "metadata": {
        "colab": {
          "base_uri": "https://localhost:8080/"
        },
        "id": "a29A-GjRg0aG",
        "outputId": "2255fe47-2b79-4695-a8a4-979536705762"
      },
      "execution_count": null,
      "outputs": [
        {
          "output_type": "stream",
          "name": "stdout",
          "text": [
            "Epoch 1/30\n",
            "\u001b[1m25/25\u001b[0m \u001b[32m━━━━━━━━━━━━━━━━━━━━\u001b[0m\u001b[37m\u001b[0m \u001b[1m24s\u001b[0m 884ms/step - accuracy: 0.1039 - loss: 35954564.0000 - val_accuracy: 0.0700 - val_loss: 2.2915\n",
            "Epoch 2/30\n",
            "\u001b[1m25/25\u001b[0m \u001b[32m━━━━━━━━━━━━━━━━━━━━\u001b[0m\u001b[37m\u001b[0m \u001b[1m22s\u001b[0m 883ms/step - accuracy: 0.1136 - loss: 4.4244 - val_accuracy: 0.0650 - val_loss: 2.9633\n",
            "Epoch 3/30\n",
            "\u001b[1m25/25\u001b[0m \u001b[32m━━━━━━━━━━━━━━━━━━━━\u001b[0m\u001b[37m\u001b[0m \u001b[1m40s\u001b[0m 857ms/step - accuracy: 0.0992 - loss: 2.9270 - val_accuracy: 0.0650 - val_loss: 3.5427\n",
            "Epoch 4/30\n",
            "\u001b[1m25/25\u001b[0m \u001b[32m━━━━━━━━━━━━━━━━━━━━\u001b[0m\u001b[37m\u001b[0m \u001b[1m41s\u001b[0m 857ms/step - accuracy: 0.1184 - loss: 2.3091 - val_accuracy: 0.0650 - val_loss: 3.5935\n",
            "Epoch 5/30\n",
            "\u001b[1m25/25\u001b[0m \u001b[32m━━━━━━━━━━━━━━━━━━━━\u001b[0m\u001b[37m\u001b[0m \u001b[1m23s\u001b[0m 926ms/step - accuracy: 0.1039 - loss: 2.2979 - val_accuracy: 0.0650 - val_loss: 3.5982\n",
            "Epoch 6/30\n",
            "\u001b[1m25/25\u001b[0m \u001b[32m━━━━━━━━━━━━━━━━━━━━\u001b[0m\u001b[37m\u001b[0m \u001b[1m39s\u001b[0m 846ms/step - accuracy: 0.1231 - loss: 2.2984 - val_accuracy: 0.0650 - val_loss: 3.5991\n"
          ]
        },
        {
          "output_type": "execute_result",
          "data": {
            "text/plain": [
              "<keras.src.callbacks.history.History at 0x7a4a0c8097b0>"
            ]
          },
          "metadata": {},
          "execution_count": 12
        }
      ]
    },
    {
      "cell_type": "code",
      "source": [
        "test_loss, test_acc = model.evaluate(X_test, y_test)\n",
        "print(f\"Precisión en test: {test_acc:.2f}\")"
      ],
      "metadata": {
        "colab": {
          "base_uri": "https://localhost:8080/"
        },
        "id": "pOl27ApWy1Sq",
        "outputId": "a733840d-56b6-49c6-9296-63bd2b1e62dc"
      },
      "execution_count": null,
      "outputs": [
        {
          "output_type": "stream",
          "name": "stdout",
          "text": [
            "\u001b[1m7/7\u001b[0m \u001b[32m━━━━━━━━━━━━━━━━━━━━\u001b[0m\u001b[37m\u001b[0m \u001b[1m1s\u001b[0m 171ms/step - accuracy: 0.0724 - loss: 2.2966\n",
            "Precisión en test: 0.07\n"
          ]
        }
      ]
    }
  ]
}