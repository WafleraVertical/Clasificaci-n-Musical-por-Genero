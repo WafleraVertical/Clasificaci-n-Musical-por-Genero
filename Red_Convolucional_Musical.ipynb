{
  "nbformat": 4,
  "nbformat_minor": 0,
  "metadata": {
    "colab": {
      "provenance": []
    },
    "kernelspec": {
      "name": "python3",
      "display_name": "Python 3"
    },
    "language_info": {
      "name": "python"
    }
  },
  "cells": [
    {
      "cell_type": "code",
      "execution_count": null,
      "metadata": {
        "id": "WHEqvKpWZm7C"
      },
      "outputs": [],
      "source": [
        "import os\n",
        "import numpy as np\n",
        "import librosa\n",
        "import librosa.display\n",
        "import tensorflow as tf\n",
        "from tensorflow.keras import layers, models\n",
        "from sklearn.model_selection import train_test_split"
      ]
    },
    {
      "cell_type": "code",
      "source": [
        "def extract_spectrogram(file_path, n_mels=128, fmax=8000):\n",
        "    y, sr = librosa.load(file_path, sr=None)\n",
        "    S = librosa.feature.melspectrogram(y=y, sr=sr, n_mels=n_mels, fmax=fmax)\n",
        "    log_S = librosa.power_to_db(S, ref=np.max)\n",
        "    return log_S"
      ],
      "metadata": {
        "id": "Rfldb2wpZoz1"
      },
      "execution_count": null,
      "outputs": []
    },
    {
      "cell_type": "code",
      "source": [
        "def load_gtzan_data(gtzan_path, genres, n_mels=128):\n",
        "    X = []\n",
        "    y = []\n",
        "    for genre in genres:\n",
        "        genre_dir = os.path.join(gtzan_path, genre)\n",
        "        for file_name in os.listdir(genre_dir):\n",
        "            file_path = os.path.join(genre_dir, file_name)\n",
        "            spectrogram = extract_spectrogram(file_path, n_mels=n_mels)\n",
        "            if spectrogram.shape[1] > 128:\n",
        "                spectrogram = spectrogram[:, :128]\n",
        "            elif spectrogram.shape[1] < 128:\n",
        "                spectrogram = np.pad(spectrogram, ((0, 0), (0, 128 - spectrogram.shape[1])), mode='constant')\n",
        "\n",
        "            X.append(spectrogram)\n",
        "            y.append(genres.index(genre))\n",
        "    return np.array(X), np.array(y)"
      ],
      "metadata": {
        "id": "12Q2AcCiZrZP"
      },
      "execution_count": null,
      "outputs": []
    },
    {
      "cell_type": "code",
      "source": [
        "GTZAN_PATH = '/content/drive/MyDrive/Tesis/GZTAN/genres_original'\n",
        "genres = ['blues', 'classical', 'country', 'disco', 'hiphop', 'jazz', 'metal', 'pop', 'reggae', 'rock']"
      ],
      "metadata": {
        "id": "vKM8l8FxZs9C"
      },
      "execution_count": null,
      "outputs": []
    },
    {
      "cell_type": "code",
      "source": [
        "X, y = load_gtzan_data(GTZAN_PATH, genres)"
      ],
      "metadata": {
        "id": "9T3Sy3YnZ0I7"
      },
      "execution_count": null,
      "outputs": []
    },
    {
      "cell_type": "code",
      "source": [
        "X = X[..., np.newaxis]\n",
        "X = X / np.max(X)"
      ],
      "metadata": {
        "id": "oQpCewuWZ2E8"
      },
      "execution_count": null,
      "outputs": []
    },
    {
      "cell_type": "code",
      "source": [
        "X_train, X_test, y_train, y_test = train_test_split(X, y, test_size=0.2, random_state=42)\n"
      ],
      "metadata": {
        "id": "m3DaHQ3CZ3Cj"
      },
      "execution_count": null,
      "outputs": []
    },
    {
      "cell_type": "code",
      "source": [
        "model = models.Sequential()"
      ],
      "metadata": {
        "id": "GwMSeRd7Z5YA"
      },
      "execution_count": null,
      "outputs": []
    },
    {
      "cell_type": "code",
      "source": [
        "model.add(layers.Conv2D(32, kernel_size=(3, 3), activation='relu', input_shape=(128, 128, 1)))\n",
        "model.add(layers.MaxPooling2D(pool_size=(2, 2)))"
      ],
      "metadata": {
        "colab": {
          "base_uri": "https://localhost:8080/"
        },
        "id": "eVFIn2tsZ6cP",
        "outputId": "890b9682-9157-42e3-bdc3-289d36a29548"
      },
      "execution_count": null,
      "outputs": [
        {
          "output_type": "stream",
          "name": "stderr",
          "text": [
            "/usr/local/lib/python3.10/dist-packages/keras/src/layers/convolutional/base_conv.py:107: UserWarning: Do not pass an `input_shape`/`input_dim` argument to a layer. When using Sequential models, prefer using an `Input(shape)` object as the first layer in the model instead.\n",
            "  super().__init__(activity_regularizer=activity_regularizer, **kwargs)\n"
          ]
        }
      ]
    },
    {
      "cell_type": "code",
      "source": [
        "model.add(layers.Conv2D(64, kernel_size=(3, 3), activation='relu'))\n",
        "model.add(layers.MaxPooling2D(pool_size=(2, 2)))"
      ],
      "metadata": {
        "id": "OdcD6xqDZ7aY"
      },
      "execution_count": null,
      "outputs": []
    },
    {
      "cell_type": "code",
      "source": [
        "model.add(layers.Conv2D(128, kernel_size=(3, 3), activation='relu'))\n",
        "model.add(layers.MaxPooling2D(pool_size=(2, 2)))"
      ],
      "metadata": {
        "id": "nZGCKESUZ9O_"
      },
      "execution_count": null,
      "outputs": []
    },
    {
      "cell_type": "code",
      "source": [
        "model.add(layers.Flatten())\n",
        "model.add(layers.Dense(256, activation='relu'))\n",
        "model.add(layers.Dropout(0.5))\n",
        "model.add(layers.Dense(10, activation='softmax'))"
      ],
      "metadata": {
        "id": "S6JmIpkCZ_Wg"
      },
      "execution_count": null,
      "outputs": []
    },
    {
      "cell_type": "code",
      "source": [
        "model.compile(optimizer='adam', loss='sparse_categorical_crossentropy', metrics=['accuracy'])\n"
      ],
      "metadata": {
        "id": "GfdfOqFBaBmm"
      },
      "execution_count": null,
      "outputs": []
    },
    {
      "cell_type": "code",
      "source": [
        "model.fit(X_train, y_train, epochs=30, batch_size=32, validation_data=(X_test, y_test))"
      ],
      "metadata": {
        "id": "jY9av84kaCPR"
      },
      "execution_count": null,
      "outputs": []
    },
    {
      "cell_type": "code",
      "source": [
        "test_loss, test_acc = model.evaluate(X_test, y_test)\n",
        "print(f'Precisión en el conjunto de prueba: {test_acc:.2f}')"
      ],
      "metadata": {
        "id": "Q4vlc7ItaDEm"
      },
      "execution_count": null,
      "outputs": []
    }
  ]
}