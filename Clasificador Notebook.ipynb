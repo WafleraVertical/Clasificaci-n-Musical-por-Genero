{
  "nbformat": 4,
  "nbformat_minor": 0,
  "metadata": {
    "colab": {
      "provenance": []
    },
    "kernelspec": {
      "name": "python3",
      "display_name": "Python 3"
    },
    "language_info": {
      "name": "python"
    }
  },
  "cells": [
    {
      "cell_type": "markdown",
      "source": [
        "Este código es parte de un proyecto destinado a utilizar una red neuronal para clasificar música por género a través de espectrogramas. Las bibliotecas importadas permiten manejar archivos de audio (os), realizar operaciones numéricas (numpy), procesar y visualizar audio (librosa), construir y entrenar modelos de redes neuronales (tensorflow), y dividir datos para entrenamiento y prueba (train_test_split). En resumen, este script está configurado para tomar archivos de audio, transformarlos en espectrogramas, y luego alimentar esos datos a una red neuronal para entrenarla a reconocer y clasificar diferentes géneros musicales. 🎧🎶"
      ],
      "metadata": {
        "id": "jsYCD4YosfAN"
      }
    },
    {
      "cell_type": "code",
      "execution_count": null,
      "metadata": {
        "id": "WHEqvKpWZm7C"
      },
      "outputs": [],
      "source": [
        "import os\n",
        "import numpy as np\n",
        "import librosa\n",
        "import librosa.display\n",
        "import tensorflow as tf\n",
        "from tensorflow.keras import layers, models\n",
        "from sklearn.model_selection import train_test_split"
      ]
    },
    {
      "cell_type": "markdown",
      "source": [
        "La función extract_spectrogram se encarga de tomar la ruta de un archivo de audio y generar un espectrograma mel, que es una representación visual de las frecuencias en el audio a lo largo del tiempo.\n",
        "\n",
        "\n",
        "* Primero, la función carga el archivo de audio usando librosa.load.\n",
        "* Luego, crea un espectrograma mel mediante librosa.feature.melspectrogram, definiendo el número de bandas mel (n_mels) y la frecuencia máxima (fmax).\n",
        "*   Finalmente, convierte el espectrograma a una escala logarítmica con librosa.power_to_db para que sea más interpretable y retorna este espectrograma logarítmico.\n",
        "\n",
        "\n",
        "\n"
      ],
      "metadata": {
        "id": "efztDVfFMMjq"
      }
    },
    {
      "cell_type": "code",
      "source": [
        "def extract_spectrogram(file_path, n_mels=128, fmax=8000):\n",
        "    y, sr = librosa.load(file_path, sr=None)\n",
        "    S = librosa.feature.melspectrogram(y=y, sr=sr, n_mels=n_mels, fmax=fmax)\n",
        "    log_S = librosa.power_to_db(S, ref=np.max)\n",
        "    return log_S"
      ],
      "metadata": {
        "id": "Rfldb2wpZoz1"
      },
      "execution_count": null,
      "outputs": []
    },
    {
      "cell_type": "markdown",
      "source": [
        "\n",
        "La función load_gtzan_data está diseñada para cargar datos del conjunto de datos GTZAN, que contiene música clasificada por géneros. Toma la ruta al directorio GTZAN, una lista de géneros y un número opcional de bandas mel (n_mels). La función recorre cada género y cada archivo de audio, extrayendo su espectrograma con la función extract_spectrogram. Si el espectrograma no tiene el tamaño adecuado, se redimensiona o se rellena. Finalmente, los espectrogramas se almacenan en la lista X y las etiquetas (índices de los géneros) en la lista y. Ambas listas se convierten en arrays de NumPy y se retornan."
      ],
      "metadata": {
        "id": "gsEblwjbMLyH"
      }
    },
    {
      "cell_type": "code",
      "source": [
        "def load_gtzan_data(gtzan_path, genres, n_mels=128):\n",
        "    X = []\n",
        "    y = []\n",
        "    for genre in genres:\n",
        "        genre_dir = os.path.join(gtzan_path, genre)\n",
        "        for file_name in os.listdir(genre_dir):\n",
        "            file_path = os.path.join(genre_dir, file_name)\n",
        "            spectrogram = extract_spectrogram(file_path, n_mels=n_mels)\n",
        "            if spectrogram.shape[1] > 128:\n",
        "                spectrogram = spectrogram[:, :128]\n",
        "            elif spectrogram.shape[1] < 128:\n",
        "                spectrogram = np.pad(spectrogram, ((0, 0), (0, 128 - spectrogram.shape[1])), mode='constant')\n",
        "\n",
        "            X.append(spectrogram)\n",
        "            y.append(genres.index(genre))\n",
        "    return np.array(X), np.array(y)"
      ],
      "metadata": {
        "id": "12Q2AcCiZrZP"
      },
      "execution_count": null,
      "outputs": []
    },
    {
      "cell_type": "code",
      "source": [
        "GTZAN_PATH = '/content/drive/MyDrive/Tesis/GZTAN/genres_original'\n",
        "genres = ['blues', 'classical', 'country', 'disco', 'hiphop', 'jazz', 'metal', 'pop', 'reggae', 'rock']"
      ],
      "metadata": {
        "id": "vKM8l8FxZs9C"
      },
      "execution_count": null,
      "outputs": []
    },
    {
      "cell_type": "code",
      "source": [
        "X, y = load_gtzan_data(GTZAN_PATH, genres)"
      ],
      "metadata": {
        "id": "9T3Sy3YnZ0I7"
      },
      "execution_count": null,
      "outputs": []
    },
    {
      "cell_type": "code",
      "source": [
        "X = X[..., np.newaxis]\n",
        "X = X / np.max(X)"
      ],
      "metadata": {
        "id": "oQpCewuWZ2E8"
      },
      "execution_count": null,
      "outputs": []
    },
    {
      "cell_type": "code",
      "source": [
        "X_train, X_test, y_train, y_test = train_test_split(X, y, test_size=0.2, random_state=42)\n"
      ],
      "metadata": {
        "id": "m3DaHQ3CZ3Cj"
      },
      "execution_count": null,
      "outputs": []
    },
    {
      "cell_type": "code",
      "source": [
        "model = models.Sequential()"
      ],
      "metadata": {
        "id": "GwMSeRd7Z5YA"
      },
      "execution_count": null,
      "outputs": []
    },
    {
      "cell_type": "code",
      "source": [
        "model.add(layers.Conv2D(32, kernel_size=(3, 3), activation='relu', input_shape=(128, 128, 1)))\n",
        "model.add(layers.MaxPooling2D(pool_size=(2, 2)))"
      ],
      "metadata": {
        "colab": {
          "base_uri": "https://localhost:8080/"
        },
        "id": "eVFIn2tsZ6cP",
        "outputId": "890b9682-9157-42e3-bdc3-289d36a29548"
      },
      "execution_count": null,
      "outputs": [
        {
          "output_type": "stream",
          "name": "stderr",
          "text": [
            "/usr/local/lib/python3.10/dist-packages/keras/src/layers/convolutional/base_conv.py:107: UserWarning: Do not pass an `input_shape`/`input_dim` argument to a layer. When using Sequential models, prefer using an `Input(shape)` object as the first layer in the model instead.\n",
            "  super().__init__(activity_regularizer=activity_regularizer, **kwargs)\n"
          ]
        }
      ]
    },
    {
      "cell_type": "code",
      "source": [
        "model.add(layers.Conv2D(64, kernel_size=(3, 3), activation='relu'))\n",
        "model.add(layers.MaxPooling2D(pool_size=(2, 2)))"
      ],
      "metadata": {
        "id": "OdcD6xqDZ7aY"
      },
      "execution_count": null,
      "outputs": []
    },
    {
      "cell_type": "code",
      "source": [
        "model.add(layers.Conv2D(128, kernel_size=(3, 3), activation='relu'))\n",
        "model.add(layers.MaxPooling2D(pool_size=(2, 2)))"
      ],
      "metadata": {
        "id": "nZGCKESUZ9O_"
      },
      "execution_count": null,
      "outputs": []
    },
    {
      "cell_type": "code",
      "source": [
        "model.add(layers.Flatten())\n",
        "model.add(layers.Dense(256, activation='relu'))\n",
        "model.add(layers.Dropout(0.5))\n",
        "model.add(layers.Dense(10, activation='softmax'))"
      ],
      "metadata": {
        "id": "S6JmIpkCZ_Wg"
      },
      "execution_count": null,
      "outputs": []
    },
    {
      "cell_type": "code",
      "source": [
        "model.compile(optimizer='adam', loss='sparse_categorical_crossentropy', metrics=['accuracy'])\n"
      ],
      "metadata": {
        "id": "GfdfOqFBaBmm"
      },
      "execution_count": null,
      "outputs": []
    },
    {
      "cell_type": "code",
      "source": [
        "model.fit(X_train, y_train, epochs=30, batch_size=32, validation_data=(X_test, y_test))"
      ],
      "metadata": {
        "colab": {
          "base_uri": "https://localhost:8080/"
        },
        "id": "jY9av84kaCPR",
        "outputId": "939c6556-bd7f-49b3-c293-140c043885d7"
      },
      "execution_count": null,
      "outputs": [
        {
          "output_type": "stream",
          "name": "stdout",
          "text": [
            "Epoch 1/30\n",
            "\u001b[1m25/25\u001b[0m \u001b[32m━━━━━━━━━━━━━━━━━━━━\u001b[0m\u001b[37m\u001b[0m \u001b[1m30s\u001b[0m 1s/step - accuracy: 0.0926 - loss: 3560219.7500 - val_accuracy: 0.1100 - val_loss: 2.3024\n",
            "Epoch 2/30\n",
            "\u001b[1m25/25\u001b[0m \u001b[32m━━━━━━━━━━━━━━━━━━━━\u001b[0m\u001b[37m\u001b[0m \u001b[1m31s\u001b[0m 1s/step - accuracy: 0.0969 - loss: 2.3026 - val_accuracy: 0.0650 - val_loss: 2.3029\n",
            "Epoch 3/30\n",
            "\u001b[1m25/25\u001b[0m \u001b[32m━━━━━━━━━━━━━━━━━━━━\u001b[0m\u001b[37m\u001b[0m \u001b[1m27s\u001b[0m 1s/step - accuracy: 0.0859 - loss: 2.3027 - val_accuracy: 0.0650 - val_loss: 2.3032\n",
            "Epoch 4/30\n",
            "\u001b[1m25/25\u001b[0m \u001b[32m━━━━━━━━━━━━━━━━━━━━\u001b[0m\u001b[37m\u001b[0m \u001b[1m41s\u001b[0m 1s/step - accuracy: 0.0871 - loss: 2.3026 - val_accuracy: 0.0650 - val_loss: 2.3036\n",
            "Epoch 5/30\n",
            "\u001b[1m25/25\u001b[0m \u001b[32m━━━━━━━━━━━━━━━━━━━━\u001b[0m\u001b[37m\u001b[0m \u001b[1m29s\u001b[0m 1s/step - accuracy: 0.1009 - loss: 2.3022 - val_accuracy: 0.0650 - val_loss: 2.3042\n",
            "Epoch 6/30\n",
            "\u001b[1m25/25\u001b[0m \u001b[32m━━━━━━━━━━━━━━━━━━━━\u001b[0m\u001b[37m\u001b[0m \u001b[1m40s\u001b[0m 1s/step - accuracy: 0.0875 - loss: 2.3024 - val_accuracy: 0.0650 - val_loss: 2.3046\n",
            "Epoch 7/30\n",
            "\u001b[1m25/25\u001b[0m \u001b[32m━━━━━━━━━━━━━━━━━━━━\u001b[0m\u001b[37m\u001b[0m \u001b[1m42s\u001b[0m 1s/step - accuracy: 0.1011 - loss: 2.3022 - val_accuracy: 0.0650 - val_loss: 2.3053\n",
            "Epoch 8/30\n",
            "\u001b[1m25/25\u001b[0m \u001b[32m━━━━━━━━━━━━━━━━━━━━\u001b[0m\u001b[37m\u001b[0m \u001b[1m28s\u001b[0m 1s/step - accuracy: 0.1147 - loss: 2.3018 - val_accuracy: 0.0650 - val_loss: 2.3058\n",
            "Epoch 9/30\n",
            "\u001b[1m25/25\u001b[0m \u001b[32m━━━━━━━━━━━━━━━━━━━━\u001b[0m\u001b[37m\u001b[0m \u001b[1m46s\u001b[0m 1s/step - accuracy: 0.1238 - loss: 2.3022 - val_accuracy: 0.0650 - val_loss: 2.3062\n",
            "Epoch 10/30\n",
            "\u001b[1m25/25\u001b[0m \u001b[32m━━━━━━━━━━━━━━━━━━━━\u001b[0m\u001b[37m\u001b[0m \u001b[1m36s\u001b[0m 1s/step - accuracy: 0.1145 - loss: 2.3022 - val_accuracy: 0.0650 - val_loss: 2.3066\n",
            "Epoch 11/30\n",
            "\u001b[1m25/25\u001b[0m \u001b[32m━━━━━━━━━━━━━━━━━━━━\u001b[0m\u001b[37m\u001b[0m \u001b[1m44s\u001b[0m 1s/step - accuracy: 0.1065 - loss: 2.3015 - val_accuracy: 0.0650 - val_loss: 2.3072\n",
            "Epoch 12/30\n",
            "\u001b[1m25/25\u001b[0m \u001b[32m━━━━━━━━━━━━━━━━━━━━\u001b[0m\u001b[37m\u001b[0m \u001b[1m41s\u001b[0m 1s/step - accuracy: 0.1286 - loss: 2.3014 - val_accuracy: 0.0650 - val_loss: 2.3075\n",
            "Epoch 13/30\n",
            "\u001b[1m25/25\u001b[0m \u001b[32m━━━━━━━━━━━━━━━━━━━━\u001b[0m\u001b[37m\u001b[0m \u001b[1m40s\u001b[0m 1s/step - accuracy: 0.0930 - loss: 2.3022 - val_accuracy: 0.0650 - val_loss: 2.3080\n",
            "Epoch 14/30\n",
            "\u001b[1m25/25\u001b[0m \u001b[32m━━━━━━━━━━━━━━━━━━━━\u001b[0m\u001b[37m\u001b[0m \u001b[1m30s\u001b[0m 1s/step - accuracy: 0.1287 - loss: 2.3014 - val_accuracy: 0.0650 - val_loss: 2.3085\n",
            "Epoch 15/30\n",
            "\u001b[1m25/25\u001b[0m \u001b[32m━━━━━━━━━━━━━━━━━━━━\u001b[0m\u001b[37m\u001b[0m \u001b[1m29s\u001b[0m 1s/step - accuracy: 0.1075 - loss: 2.3007 - val_accuracy: 0.0650 - val_loss: 2.3091\n",
            "Epoch 16/30\n",
            "\u001b[1m25/25\u001b[0m \u001b[32m━━━━━━━━━━━━━━━━━━━━\u001b[0m\u001b[37m\u001b[0m \u001b[1m43s\u001b[0m 1s/step - accuracy: 0.0958 - loss: 2.3015 - val_accuracy: 0.0650 - val_loss: 2.3092\n",
            "Epoch 17/30\n",
            "\u001b[1m25/25\u001b[0m \u001b[32m━━━━━━━━━━━━━━━━━━━━\u001b[0m\u001b[37m\u001b[0m \u001b[1m40s\u001b[0m 1s/step - accuracy: 0.1069 - loss: 2.3015 - val_accuracy: 0.0650 - val_loss: 2.3095\n",
            "Epoch 18/30\n",
            "\u001b[1m25/25\u001b[0m \u001b[32m━━━━━━━━━━━━━━━━━━━━\u001b[0m\u001b[37m\u001b[0m \u001b[1m32s\u001b[0m 1s/step - accuracy: 0.1134 - loss: 2.3008 - val_accuracy: 0.0650 - val_loss: 2.3099\n",
            "Epoch 19/30\n",
            "\u001b[1m25/25\u001b[0m \u001b[32m━━━━━━━━━━━━━━━━━━━━\u001b[0m\u001b[37m\u001b[0m \u001b[1m39s\u001b[0m 1s/step - accuracy: 0.0834 - loss: 2.3013 - val_accuracy: 0.0650 - val_loss: 2.3102\n",
            "Epoch 20/30\n",
            "\u001b[1m25/25\u001b[0m \u001b[32m━━━━━━━━━━━━━━━━━━━━\u001b[0m\u001b[37m\u001b[0m \u001b[1m28s\u001b[0m 1s/step - accuracy: 0.0923 - loss: 2.3035 - val_accuracy: 0.0650 - val_loss: 2.3105\n",
            "Epoch 21/30\n",
            "\u001b[1m25/25\u001b[0m \u001b[32m━━━━━━━━━━━━━━━━━━━━\u001b[0m\u001b[37m\u001b[0m \u001b[1m43s\u001b[0m 1s/step - accuracy: 0.1141 - loss: 2.3018 - val_accuracy: 0.0650 - val_loss: 2.3109\n",
            "Epoch 22/30\n",
            "\u001b[1m25/25\u001b[0m \u001b[32m━━━━━━━━━━━━━━━━━━━━\u001b[0m\u001b[37m\u001b[0m \u001b[1m41s\u001b[0m 1s/step - accuracy: 0.1189 - loss: 2.2990 - val_accuracy: 0.0650 - val_loss: 2.3115\n",
            "Epoch 23/30\n",
            "\u001b[1m25/25\u001b[0m \u001b[32m━━━━━━━━━━━━━━━━━━━━\u001b[0m\u001b[37m\u001b[0m \u001b[1m41s\u001b[0m 1s/step - accuracy: 0.1135 - loss: 2.3011 - val_accuracy: 0.0650 - val_loss: 2.3117\n",
            "Epoch 24/30\n",
            "\u001b[1m25/25\u001b[0m \u001b[32m━━━━━━━━━━━━━━━━━━━━\u001b[0m\u001b[37m\u001b[0m \u001b[1m43s\u001b[0m 1s/step - accuracy: 0.0971 - loss: 2.3022 - val_accuracy: 0.0650 - val_loss: 2.3118\n",
            "Epoch 25/30\n",
            "\u001b[1m25/25\u001b[0m \u001b[32m━━━━━━━━━━━━━━━━━━━━\u001b[0m\u001b[37m\u001b[0m \u001b[1m32s\u001b[0m 1s/step - accuracy: 0.1021 - loss: 2.3013 - val_accuracy: 0.0650 - val_loss: 2.3123\n",
            "Epoch 26/30\n",
            "\u001b[1m25/25\u001b[0m \u001b[32m━━━━━━━━━━━━━━━━━━━━\u001b[0m\u001b[37m\u001b[0m \u001b[1m38s\u001b[0m 1s/step - accuracy: 0.0889 - loss: 2.3026 - val_accuracy: 0.0650 - val_loss: 2.3121\n",
            "Epoch 27/30\n",
            "\u001b[1m25/25\u001b[0m \u001b[32m━━━━━━━━━━━━━━━━━━━━\u001b[0m\u001b[37m\u001b[0m \u001b[1m30s\u001b[0m 1s/step - accuracy: 0.1079 - loss: 2.2993 - val_accuracy: 0.0650 - val_loss: 2.3128\n",
            "Epoch 28/30\n",
            "\u001b[1m25/25\u001b[0m \u001b[32m━━━━━━━━━━━━━━━━━━━━\u001b[0m\u001b[37m\u001b[0m \u001b[1m42s\u001b[0m 1s/step - accuracy: 0.1254 - loss: 2.3000 - val_accuracy: 0.0650 - val_loss: 2.3129\n",
            "Epoch 29/30\n",
            "\u001b[1m25/25\u001b[0m \u001b[32m━━━━━━━━━━━━━━━━━━━━\u001b[0m\u001b[37m\u001b[0m \u001b[1m29s\u001b[0m 1s/step - accuracy: 0.1166 - loss: 2.3031 - val_accuracy: 0.0650 - val_loss: 2.3131\n",
            "Epoch 30/30\n",
            "\u001b[1m25/25\u001b[0m \u001b[32m━━━━━━━━━━━━━━━━━━━━\u001b[0m\u001b[37m\u001b[0m \u001b[1m40s\u001b[0m 1s/step - accuracy: 0.1091 - loss: 2.3011 - val_accuracy: 0.0650 - val_loss: 2.3135\n"
          ]
        },
        {
          "output_type": "execute_result",
          "data": {
            "text/plain": [
              "<keras.src.callbacks.history.History at 0x7a467e1e73d0>"
            ]
          },
          "metadata": {},
          "execution_count": 19
        }
      ]
    },
    {
      "cell_type": "code",
      "source": [
        "test_loss, test_acc = model.evaluate(X_test, y_test)\n",
        "print(f'Precisión en el conjunto de prueba: {test_acc:.2f}')"
      ],
      "metadata": {
        "colab": {
          "base_uri": "https://localhost:8080/"
        },
        "id": "Q4vlc7ItaDEm",
        "outputId": "a5d9fce0-61ee-4ce6-bafd-d5f407522186"
      },
      "execution_count": null,
      "outputs": [
        {
          "output_type": "stream",
          "name": "stdout",
          "text": [
            "\u001b[1m7/7\u001b[0m \u001b[32m━━━━━━━━━━━━━━━━━━━━\u001b[0m\u001b[37m\u001b[0m \u001b[1m1s\u001b[0m 211ms/step - accuracy: 0.0729 - loss: 2.3129\n",
            "Precisión en el conjunto de prueba: 0.06\n"
          ]
        }
      ]
    }
  ]
}