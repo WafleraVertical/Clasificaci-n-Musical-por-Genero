{
  "nbformat": 4,
  "nbformat_minor": 0,
  "metadata": {
    "colab": {
      "provenance": [],
      "mount_file_id": "1OV0iissCLK0F0EJCWM72bE3KtLc6m9TK",
      "authorship_tag": "ABX9TyPHQloAEt8Cknh3oiJvq2Nl",
      "include_colab_link": true
    },
    "kernelspec": {
      "name": "python3",
      "display_name": "Python 3"
    },
    "language_info": {
      "name": "python"
    }
  },
  "cells": [
    {
      "cell_type": "markdown",
      "metadata": {
        "id": "view-in-github",
        "colab_type": "text"
      },
      "source": [
        "<a href=\"https://colab.research.google.com/github/WafleraVertical/Clasificaci-n-Musical-por-Genero/blob/main/End_to_End_CNN_(Dieleman_%26_Schrauwen%2C_2014).ipynb\" target=\"_parent\"><img src=\"https://colab.research.google.com/assets/colab-badge.svg\" alt=\"Open In Colab\"/></a>"
      ]
    },
    {
      "cell_type": "code",
      "execution_count": 1,
      "metadata": {
        "id": "WHEqvKpWZm7C"
      },
      "outputs": [],
      "source": [
        "import os\n",
        "import numpy as np\n",
        "import librosa\n",
        "import librosa.display\n",
        "import tensorflow as tf\n",
        "from tensorflow.keras import layers, models\n",
        "from sklearn.model_selection import train_test_split\n",
        "from tensorflow.keras.callbacks import EarlyStopping, ModelCheckpoint\n"
      ]
    },
    {
      "cell_type": "code",
      "source": [
        "def extract_spectrogram(file_path, n_mels=128, fmax=8000):\n",
        "    y, sr = librosa.load(file_path, sr=None)\n",
        "    S = librosa.feature.melspectrogram(y=y, sr=sr, n_mels=n_mels, fmax=fmax)\n",
        "    log_S = librosa.power_to_db(S, ref=np.max)\n",
        "    return log_S"
      ],
      "metadata": {
        "id": "Rfldb2wpZoz1"
      },
      "execution_count": 2,
      "outputs": []
    },
    {
      "cell_type": "code",
      "source": [
        "def load_gtzan_data(gtzan_path, genres, n_mels=128):\n",
        "    X = []\n",
        "    y = []\n",
        "    for genre in genres:\n",
        "        genre_dir = os.path.join(gtzan_path, genre)\n",
        "        for file_name in os.listdir(genre_dir):\n",
        "            file_path = os.path.join(genre_dir, file_name)\n",
        "            spectrogram = extract_spectrogram(file_path, n_mels=n_mels)\n",
        "            if spectrogram.shape[1] > 128:\n",
        "                spectrogram = spectrogram[:, :128]\n",
        "            elif spectrogram.shape[1] < 128:\n",
        "                spectrogram = np.pad(spectrogram, ((0, 0), (0, 128 - spectrogram.shape[1])), mode='constant')\n",
        "\n",
        "            X.append(spectrogram)\n",
        "            y.append(genres.index(genre))\n",
        "    return np.array(X), np.array(y)"
      ],
      "metadata": {
        "id": "12Q2AcCiZrZP"
      },
      "execution_count": 3,
      "outputs": []
    },
    {
      "cell_type": "code",
      "source": [
        "GTZAN_PATH = '/content/drive/MyDrive/Tesis/GZTAN/genres_original'\n",
        "genres = ['blues', 'classical', 'country', 'disco', 'hiphop', 'jazz', 'metal', 'pop', 'reggae', 'rock']"
      ],
      "metadata": {
        "id": "vKM8l8FxZs9C"
      },
      "execution_count": 4,
      "outputs": []
    },
    {
      "cell_type": "code",
      "source": [
        "X, y = load_gtzan_data(GTZAN_PATH, genres)"
      ],
      "metadata": {
        "id": "9T3Sy3YnZ0I7"
      },
      "execution_count": 6,
      "outputs": []
    },
    {
      "cell_type": "code",
      "source": [
        "X = X[..., np.newaxis]\n",
        "X = X / np.max(X)"
      ],
      "metadata": {
        "id": "oQpCewuWZ2E8"
      },
      "execution_count": 7,
      "outputs": []
    },
    {
      "cell_type": "code",
      "source": [
        "X_train, X_test, y_train, y_test = train_test_split(X, y, test_size=0.2, random_state=42)\n"
      ],
      "metadata": {
        "id": "m3DaHQ3CZ3Cj"
      },
      "execution_count": 8,
      "outputs": []
    },
    {
      "cell_type": "code",
      "source": [
        "early_stopping = EarlyStopping(monitor='val_loss', patience=5, restore_best_weights=True)\n",
        "model_checkpoint = ModelCheckpoint('best_model.keras', save_best_only=True, monitor='val_loss')\n"
      ],
      "metadata": {
        "id": "ifkmjd8HiOyd"
      },
      "execution_count": 18,
      "outputs": []
    },
    {
      "cell_type": "code",
      "source": [
        "model = models.Sequential([\n",
        "    layers.Conv2D(32, (5, 5), activation='relu', input_shape=(128, 128, 1)),\n",
        "    layers.MaxPooling2D((2, 2)),\n",
        "    layers.Conv2D(64, (5, 5), activation='relu'),\n",
        "    layers.MaxPooling2D((2, 2)),\n",
        "    layers.Flatten(),\n",
        "    layers.Dense(256, activation='relu'),\n",
        "    layers.Dense(10, activation='softmax')\n",
        "])\n",
        "\n",
        "model.compile(optimizer='adam', loss='sparse_categorical_crossentropy', metrics=['accuracy'])\n"
      ],
      "metadata": {
        "colab": {
          "base_uri": "https://localhost:8080/"
        },
        "id": "OGFi_pX7gtAd",
        "outputId": "904be464-28d2-43af-b5b7-6afc645e80ff"
      },
      "execution_count": 9,
      "outputs": [
        {
          "output_type": "stream",
          "name": "stderr",
          "text": [
            "/usr/local/lib/python3.10/dist-packages/keras/src/layers/convolutional/base_conv.py:107: UserWarning: Do not pass an `input_shape`/`input_dim` argument to a layer. When using Sequential models, prefer using an `Input(shape)` object as the first layer in the model instead.\n",
            "  super().__init__(activity_regularizer=activity_regularizer, **kwargs)\n"
          ]
        }
      ]
    },
    {
      "cell_type": "code",
      "source": [
        "model.fit(X_train, y_train, epochs=30, validation_data=(X_test, y_test),\n",
        "          callbacks=[early_stopping, model_checkpoint])\n",
        "\n"
      ],
      "metadata": {
        "colab": {
          "base_uri": "https://localhost:8080/"
        },
        "id": "a29A-GjRg0aG",
        "outputId": "1d6300d7-72f4-4c09-b7cd-6b3f31ea82ca"
      },
      "execution_count": 19,
      "outputs": [
        {
          "output_type": "stream",
          "name": "stdout",
          "text": [
            "Epoch 1/30\n",
            "\u001b[1m25/25\u001b[0m \u001b[32m━━━━━━━━━━━━━━━━━━━━\u001b[0m\u001b[37m\u001b[0m \u001b[1m49s\u001b[0m 2s/step - accuracy: 0.1059 - loss: 13759936.0000 - val_accuracy: 0.1150 - val_loss: 2.3032\n",
            "Epoch 2/30\n",
            "\u001b[1m25/25\u001b[0m \u001b[32m━━━━━━━━━━━━━━━━━━━━\u001b[0m\u001b[37m\u001b[0m \u001b[1m72s\u001b[0m 2s/step - accuracy: 0.0962 - loss: 2.3021 - val_accuracy: 0.0650 - val_loss: 2.3041\n",
            "Epoch 3/30\n",
            "\u001b[1m25/25\u001b[0m \u001b[32m━━━━━━━━━━━━━━━━━━━━\u001b[0m\u001b[37m\u001b[0m \u001b[1m42s\u001b[0m 2s/step - accuracy: 0.1207 - loss: 2.3016 - val_accuracy: 0.0650 - val_loss: 2.3048\n",
            "Epoch 4/30\n",
            "\u001b[1m25/25\u001b[0m \u001b[32m━━━━━━━━━━━━━━━━━━━━\u001b[0m\u001b[37m\u001b[0m \u001b[1m45s\u001b[0m 2s/step - accuracy: 0.1047 - loss: 2.3027 - val_accuracy: 0.0650 - val_loss: 2.3055\n",
            "Epoch 5/30\n",
            "\u001b[1m25/25\u001b[0m \u001b[32m━━━━━━━━━━━━━━━━━━━━\u001b[0m\u001b[37m\u001b[0m \u001b[1m77s\u001b[0m 1s/step - accuracy: 0.1098 - loss: 2.3021 - val_accuracy: 0.0650 - val_loss: 2.3066\n",
            "Epoch 6/30\n",
            "\u001b[1m25/25\u001b[0m \u001b[32m━━━━━━━━━━━━━━━━━━━━\u001b[0m\u001b[37m\u001b[0m \u001b[1m41s\u001b[0m 1s/step - accuracy: 0.1000 - loss: 2.3026 - val_accuracy: 0.0650 - val_loss: 2.3071\n",
            "\u001b[1m7/7\u001b[0m \u001b[32m━━━━━━━━━━━━━━━━━━━━\u001b[0m\u001b[37m\u001b[0m \u001b[1m2s\u001b[0m 278ms/step - accuracy: 0.1100 - loss: 2.3032\n",
            "Precisión en test: 0.12\n"
          ]
        }
      ]
    },
    {
      "cell_type": "code",
      "source": [
        "test_loss, test_acc = model.evaluate(X_test, y_test)\n",
        "print(f\"Precisión en test: {test_acc:.2f}\")"
      ],
      "metadata": {
        "colab": {
          "base_uri": "https://localhost:8080/"
        },
        "id": "fKOo44itmmf8",
        "outputId": "2de51ddb-57ce-4a1a-9ea5-5a30c58bd427"
      },
      "execution_count": 20,
      "outputs": [
        {
          "output_type": "stream",
          "name": "stdout",
          "text": [
            "\u001b[1m7/7\u001b[0m \u001b[32m━━━━━━━━━━━━━━━━━━━━\u001b[0m\u001b[37m\u001b[0m \u001b[1m2s\u001b[0m 268ms/step - accuracy: 0.1100 - loss: 2.3032\n",
            "Precisión en test: 0.12\n"
          ]
        }
      ]
    }
  ]
}